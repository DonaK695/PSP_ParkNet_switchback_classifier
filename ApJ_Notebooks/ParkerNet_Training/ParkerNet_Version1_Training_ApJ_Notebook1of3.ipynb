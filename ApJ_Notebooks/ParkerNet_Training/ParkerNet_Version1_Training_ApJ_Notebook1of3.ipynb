{
  "cells": [
    {
      "cell_type": "markdown",
      "metadata": {
        "id": "Qzib6sDLqP4B"
      },
      "source": [
        "**☀️ Welcome to ParkerNet Version 1.0 Notebook 1 of 3!**\n",
        "\n",
        "This notebook can be used to recreate the learning steps (e.g., training) of ParkerNet. ParkerNet Version 1.0 uses data from FIELDS (4s per cycle L2 data) and SPC (L3 data). FIELDS and SWEAP (SPC) data can be obtained from CDAWeb. FIELDS data were downsampled to 0.8738s and time synchronized with SPC data. If SPC data contained data gaps more than 25 minutes in an hour window, that window was discarded from the full dataset. The provided text file (PSP_E1toE7_july23_nonoise.txt) has already undergone these steps.\n",
        "\n",
        "**All datasets MUST have the exact time resolution and input variables for ParkerNet to run correctly (keep this mind if you want to test ParkerNet on new data not accompanying the publication).**\n",
        "\n",
        "*This notebook is, notebook 1 of the 3 accompanying notebooks needed to reproduce the results in the Paper titled \"An Iterative, Deep Learning Approach for Switchback Classification in Parker Solar Probe Data \".*\n",
        "\n",
        "\n",
        "***With this notebook, you will be able to:***\n",
        "\n",
        "1.train ParkerNet for 3 different splits (split M, split N, split P) for various seeds.\n",
        "\n",
        "2.save ParkerNet model weights\n",
        "\n",
        "3.evaluate parkernet on the validation set and plot evaluation metrics (e.g., PRC curve).\n",
        "\n",
        "4.try out a prediction on the test set\n",
        "\n",
        "\n",
        "\n",
        "***Notes: The training set (i.e., file \"PSP_E1toE7_July23_nonoise.txt\" ) has already gone through the incremental , targeted-HITL (human-in-the-loop) procedure. You will only be recreating the final training and not the targeted-HITL approach.***\n",
        "\n",
        "\n",
        "\n",
        "\n",
        "** Package Versions** This notebook was implemented in a high compute (A100 GPU) Google Colab environment. The requirement.txt package is difficult to use due to this, but we have printed the version of packages used in the project within this notebook. This should help with any package/version issues.\n",
        "\n",
        "Files needed to run notebook:\n",
        "\n",
        "\"PSP_E1toE7_July23_nonoise.txt\"\n",
        "\n",
        "*Optional files that were used for additional validation (check for how well ParkerNet is doing, mainly used in iterative training).*\n",
        "\n",
        "\"PSP_E15.txt\"\n",
        "\n"
      ]
    },
    {
      "cell_type": "markdown",
      "source": [
        "# ====== Load Packages ======\n"
      ],
      "metadata": {
        "id": "ulPCN9SRHgbz"
      }
    },
    {
      "cell_type": "markdown",
      "source": [
        "________________________________________________________________________________________________________________________________________________________________"
      ],
      "metadata": {
        "id": "sczPld-GNyhR"
      }
    },
    {
      "cell_type": "markdown",
      "source": [
        "We will start by loading all the packages we will need for this project."
      ],
      "metadata": {
        "id": "BAjKEGZRNsUb"
      }
    },
    {
      "cell_type": "code",
      "execution_count": null,
      "metadata": {
        "id": "hvUnxX0ZqZlI"
      },
      "outputs": [],
      "source": [
        "import pandas as pd\n",
        "import os\n",
        "import numpy as np\n",
        "import keras\n",
        "from keras import backend as K\n",
        "from keras.models import Sequential\n",
        "from keras.layers import Conv1D, MaxPooling1D,Activation, Dense, Dropout, Flatten, TimeDistributed, Bidirectional, LSTM, GlobalMaxPool1D, GlobalAveragePooling1D\n",
        "from tensorflow.keras.layers import  Input\n",
        "from keras.optimizers import Adam\n",
        "import matplotlib.pyplot as plt\n",
        "from time import time\n",
        "import seaborn as sns\n",
        "from sklearn.metrics import confusion_matrix, classification_report, precision_recall_curve\n",
        "from sklearn.metrics import roc_auc_score, roc_curve, f1_score, precision_score, recall_score, accuracy_score, auc\n",
        "from sklearn.metrics import precision_recall_curve, auc\n",
        "from keras import initializers\n",
        "import tensorflow as tf\n",
        "import random"
      ]
    },
    {
      "cell_type": "code",
      "source": [
        "# Print versions\n",
        "print(\"Versions of installed libraries:\")\n",
        "print(f\"pandas: {pd.__version__}\")\n",
        "print(f\"numpy: {np.__version__}\")\n",
        "print(f\"keras: {keras.__version__}\")\n",
        "print(f\"tensorflow: {tf.__version__}\")\n",
        "print(f\"matplotlib: {plt.matplotlib.__version__}\")\n",
        "print(f\"seaborn: {sns.__version__}\")\n",
        "print(f\"scikit-learn: {sns.__version__}\")"
      ],
      "metadata": {
        "colab": {
          "base_uri": "https://localhost:8080/"
        },
        "id": "7z2i0ghe_K5o",
        "outputId": "b2608364-9619-44a3-8081-e69cc94dea6a"
      },
      "execution_count": null,
      "outputs": [
        {
          "output_type": "stream",
          "name": "stdout",
          "text": [
            "Versions of installed libraries:\n",
            "pandas: 2.2.2\n",
            "numpy: 1.26.4\n",
            "keras: 3.8.0\n",
            "tensorflow: 2.18.0\n",
            "matplotlib: 3.10.0\n",
            "seaborn: 0.13.2\n",
            "scikit-learn: 0.13.2\n"
          ]
        }
      ]
    },
    {
      "cell_type": "markdown",
      "source": [
        "When running this notebook locally, ignore the google drive specific commands and simply read in the provided .txt files needed from your local folder."
      ],
      "metadata": {
        "id": "7eIofoifrZG2"
      }
    },
    {
      "cell_type": "code",
      "execution_count": null,
      "metadata": {
        "colab": {
          "base_uri": "https://localhost:8080/"
        },
        "id": "4cJu7gwwYU8a",
        "outputId": "f1a06d74-f545-4206-81f9-c0745d02f702"
      },
      "outputs": [
        {
          "output_type": "stream",
          "name": "stdout",
          "text": [
            "Mounted at /content/MyDrive\n"
          ]
        }
      ],
      "source": [
        "from google.colab import drive\n",
        "drive.mount('/content/MyDrive')"
      ]
    },
    {
      "cell_type": "code",
      "execution_count": null,
      "metadata": {
        "colab": {
          "base_uri": "https://localhost:8080/"
        },
        "id": "fVDDiIiYYXfm",
        "outputId": "e81669c6-156f-4d79-98e9-2233ebbb79f1"
      },
      "outputs": [
        {
          "output_type": "stream",
          "name": "stdout",
          "text": [
            "/content/MyDrive/MyDrive\n"
          ]
        }
      ],
      "source": [
        "cd MyDrive/MyDrive"
      ]
    },
    {
      "cell_type": "markdown",
      "source": [
        "# ====== Load data ======"
      ],
      "metadata": {
        "id": "S3mqs2mtHqMR"
      }
    },
    {
      "cell_type": "markdown",
      "source": [
        "Loading in the file that will be used for training and validation."
      ],
      "metadata": {
        "id": "-TYk9nimuT14"
      }
    },
    {
      "cell_type": "code",
      "execution_count": null,
      "metadata": {
        "colab": {
          "base_uri": "https://localhost:8080/",
          "height": 327
        },
        "id": "aKxMyui3Ya8t",
        "outputId": "ceace6a6-fa88-4d70-daba-966599f9be42"
      },
      "outputs": [
        {
          "output_type": "stream",
          "name": "stderr",
          "text": [
            "<ipython-input-10-7fc5df52942e>:1: FutureWarning: The argument 'infer_datetime_format' is deprecated and will be removed in a future version. A strict version of it is now the default, see https://pandas.pydata.org/pdeps/0004-consistent-to-datetime-parsing.html. You can safely remove this argument.\n",
            "  df = pd.read_csv('PSP_E1toE7_July23_nonoise.txt', sep = \"\\t\", parse_dates=['Datetime'],#PSP_E1toE7_July23_nonoise.txt\n",
            "<ipython-input-10-7fc5df52942e>:6: FutureWarning: Downcasting behavior in `replace` is deprecated and will be removed in a future version. To retain the old behavior, explicitly call `result.infer_objects(copy=False)`. To opt-in to the future behavior, set `pd.set_option('future.no_silent_downcasting', True)`\n",
            "  df.Class = df.Class.replace({True: 1, False: 0})\n"
          ]
        },
        {
          "output_type": "execute_result",
          "data": {
            "text/plain": [
              "                               B_r       Bmag        B_t        B_n      V_r  \\\n",
              "Datetime                                                                       \n",
              "2018-11-04 00:00:00.000 -66.058226  70.255204  -4.140612 -23.557585  267.886   \n",
              "2018-11-04 00:00:00.873 -65.699724  70.171543  -3.381591 -24.416317  263.905   \n",
              "2018-11-04 00:00:01.747 -66.442084  70.452417  -8.469396 -21.846322  266.871   \n",
              "2018-11-04 00:00:02.621 -65.771892  70.127234 -15.798794 -18.500954  260.689   \n",
              "2018-11-04 00:00:03.495 -64.232595  70.390542 -18.842718 -21.770487  267.265   \n",
              "\n",
              "                             V_t      V_n        Vmag       V_nr  \\\n",
              "Datetime                                                           \n",
              "2018-11-04 00:00:00.000 -28.3115 -39.9285  272.321015  48.947177   \n",
              "2018-11-04 00:00:00.873 -69.5283 -43.8579  276.411919  82.205230   \n",
              "2018-11-04 00:00:01.747 -41.5544 -24.7354  271.217143  48.359158   \n",
              "2018-11-04 00:00:02.621 -57.2835 -41.0414  270.045460  70.468403   \n",
              "2018-11-04 00:00:03.495 -26.0570 -45.9163  272.429540  52.794639   \n",
              "\n",
              "                         ProtonDensity  Class  \n",
              "Datetime                                       \n",
              "2018-11-04 00:00:00.000        391.665      0  \n",
              "2018-11-04 00:00:00.873        536.104      0  \n",
              "2018-11-04 00:00:01.747        367.138      0  \n",
              "2018-11-04 00:00:02.621        504.809      0  \n",
              "2018-11-04 00:00:03.495        394.882      0  "
            ],
            "text/html": [
              "\n",
              "  <div id=\"df-7534fb5b-d081-436c-a5db-1604cbdfb0b0\" class=\"colab-df-container\">\n",
              "    <div>\n",
              "<style scoped>\n",
              "    .dataframe tbody tr th:only-of-type {\n",
              "        vertical-align: middle;\n",
              "    }\n",
              "\n",
              "    .dataframe tbody tr th {\n",
              "        vertical-align: top;\n",
              "    }\n",
              "\n",
              "    .dataframe thead th {\n",
              "        text-align: right;\n",
              "    }\n",
              "</style>\n",
              "<table border=\"1\" class=\"dataframe\">\n",
              "  <thead>\n",
              "    <tr style=\"text-align: right;\">\n",
              "      <th></th>\n",
              "      <th>B_r</th>\n",
              "      <th>Bmag</th>\n",
              "      <th>B_t</th>\n",
              "      <th>B_n</th>\n",
              "      <th>V_r</th>\n",
              "      <th>V_t</th>\n",
              "      <th>V_n</th>\n",
              "      <th>Vmag</th>\n",
              "      <th>V_nr</th>\n",
              "      <th>ProtonDensity</th>\n",
              "      <th>Class</th>\n",
              "    </tr>\n",
              "    <tr>\n",
              "      <th>Datetime</th>\n",
              "      <th></th>\n",
              "      <th></th>\n",
              "      <th></th>\n",
              "      <th></th>\n",
              "      <th></th>\n",
              "      <th></th>\n",
              "      <th></th>\n",
              "      <th></th>\n",
              "      <th></th>\n",
              "      <th></th>\n",
              "      <th></th>\n",
              "    </tr>\n",
              "  </thead>\n",
              "  <tbody>\n",
              "    <tr>\n",
              "      <th>2018-11-04 00:00:00.000</th>\n",
              "      <td>-66.058226</td>\n",
              "      <td>70.255204</td>\n",
              "      <td>-4.140612</td>\n",
              "      <td>-23.557585</td>\n",
              "      <td>267.886</td>\n",
              "      <td>-28.3115</td>\n",
              "      <td>-39.9285</td>\n",
              "      <td>272.321015</td>\n",
              "      <td>48.947177</td>\n",
              "      <td>391.665</td>\n",
              "      <td>0</td>\n",
              "    </tr>\n",
              "    <tr>\n",
              "      <th>2018-11-04 00:00:00.873</th>\n",
              "      <td>-65.699724</td>\n",
              "      <td>70.171543</td>\n",
              "      <td>-3.381591</td>\n",
              "      <td>-24.416317</td>\n",
              "      <td>263.905</td>\n",
              "      <td>-69.5283</td>\n",
              "      <td>-43.8579</td>\n",
              "      <td>276.411919</td>\n",
              "      <td>82.205230</td>\n",
              "      <td>536.104</td>\n",
              "      <td>0</td>\n",
              "    </tr>\n",
              "    <tr>\n",
              "      <th>2018-11-04 00:00:01.747</th>\n",
              "      <td>-66.442084</td>\n",
              "      <td>70.452417</td>\n",
              "      <td>-8.469396</td>\n",
              "      <td>-21.846322</td>\n",
              "      <td>266.871</td>\n",
              "      <td>-41.5544</td>\n",
              "      <td>-24.7354</td>\n",
              "      <td>271.217143</td>\n",
              "      <td>48.359158</td>\n",
              "      <td>367.138</td>\n",
              "      <td>0</td>\n",
              "    </tr>\n",
              "    <tr>\n",
              "      <th>2018-11-04 00:00:02.621</th>\n",
              "      <td>-65.771892</td>\n",
              "      <td>70.127234</td>\n",
              "      <td>-15.798794</td>\n",
              "      <td>-18.500954</td>\n",
              "      <td>260.689</td>\n",
              "      <td>-57.2835</td>\n",
              "      <td>-41.0414</td>\n",
              "      <td>270.045460</td>\n",
              "      <td>70.468403</td>\n",
              "      <td>504.809</td>\n",
              "      <td>0</td>\n",
              "    </tr>\n",
              "    <tr>\n",
              "      <th>2018-11-04 00:00:03.495</th>\n",
              "      <td>-64.232595</td>\n",
              "      <td>70.390542</td>\n",
              "      <td>-18.842718</td>\n",
              "      <td>-21.770487</td>\n",
              "      <td>267.265</td>\n",
              "      <td>-26.0570</td>\n",
              "      <td>-45.9163</td>\n",
              "      <td>272.429540</td>\n",
              "      <td>52.794639</td>\n",
              "      <td>394.882</td>\n",
              "      <td>0</td>\n",
              "    </tr>\n",
              "  </tbody>\n",
              "</table>\n",
              "</div>\n",
              "    <div class=\"colab-df-buttons\">\n",
              "\n",
              "  <div class=\"colab-df-container\">\n",
              "    <button class=\"colab-df-convert\" onclick=\"convertToInteractive('df-7534fb5b-d081-436c-a5db-1604cbdfb0b0')\"\n",
              "            title=\"Convert this dataframe to an interactive table.\"\n",
              "            style=\"display:none;\">\n",
              "\n",
              "  <svg xmlns=\"http://www.w3.org/2000/svg\" height=\"24px\" viewBox=\"0 -960 960 960\">\n",
              "    <path d=\"M120-120v-720h720v720H120Zm60-500h600v-160H180v160Zm220 220h160v-160H400v160Zm0 220h160v-160H400v160ZM180-400h160v-160H180v160Zm440 0h160v-160H620v160ZM180-180h160v-160H180v160Zm440 0h160v-160H620v160Z\"/>\n",
              "  </svg>\n",
              "    </button>\n",
              "\n",
              "  <style>\n",
              "    .colab-df-container {\n",
              "      display:flex;\n",
              "      gap: 12px;\n",
              "    }\n",
              "\n",
              "    .colab-df-convert {\n",
              "      background-color: #E8F0FE;\n",
              "      border: none;\n",
              "      border-radius: 50%;\n",
              "      cursor: pointer;\n",
              "      display: none;\n",
              "      fill: #1967D2;\n",
              "      height: 32px;\n",
              "      padding: 0 0 0 0;\n",
              "      width: 32px;\n",
              "    }\n",
              "\n",
              "    .colab-df-convert:hover {\n",
              "      background-color: #E2EBFA;\n",
              "      box-shadow: 0px 1px 2px rgba(60, 64, 67, 0.3), 0px 1px 3px 1px rgba(60, 64, 67, 0.15);\n",
              "      fill: #174EA6;\n",
              "    }\n",
              "\n",
              "    .colab-df-buttons div {\n",
              "      margin-bottom: 4px;\n",
              "    }\n",
              "\n",
              "    [theme=dark] .colab-df-convert {\n",
              "      background-color: #3B4455;\n",
              "      fill: #D2E3FC;\n",
              "    }\n",
              "\n",
              "    [theme=dark] .colab-df-convert:hover {\n",
              "      background-color: #434B5C;\n",
              "      box-shadow: 0px 1px 3px 1px rgba(0, 0, 0, 0.15);\n",
              "      filter: drop-shadow(0px 1px 2px rgba(0, 0, 0, 0.3));\n",
              "      fill: #FFFFFF;\n",
              "    }\n",
              "  </style>\n",
              "\n",
              "    <script>\n",
              "      const buttonEl =\n",
              "        document.querySelector('#df-7534fb5b-d081-436c-a5db-1604cbdfb0b0 button.colab-df-convert');\n",
              "      buttonEl.style.display =\n",
              "        google.colab.kernel.accessAllowed ? 'block' : 'none';\n",
              "\n",
              "      async function convertToInteractive(key) {\n",
              "        const element = document.querySelector('#df-7534fb5b-d081-436c-a5db-1604cbdfb0b0');\n",
              "        const dataTable =\n",
              "          await google.colab.kernel.invokeFunction('convertToInteractive',\n",
              "                                                    [key], {});\n",
              "        if (!dataTable) return;\n",
              "\n",
              "        const docLinkHtml = 'Like what you see? Visit the ' +\n",
              "          '<a target=\"_blank\" href=https://colab.research.google.com/notebooks/data_table.ipynb>data table notebook</a>'\n",
              "          + ' to learn more about interactive tables.';\n",
              "        element.innerHTML = '';\n",
              "        dataTable['output_type'] = 'display_data';\n",
              "        await google.colab.output.renderOutput(dataTable, element);\n",
              "        const docLink = document.createElement('div');\n",
              "        docLink.innerHTML = docLinkHtml;\n",
              "        element.appendChild(docLink);\n",
              "      }\n",
              "    </script>\n",
              "  </div>\n",
              "\n",
              "\n",
              "<div id=\"df-b61205a7-c909-443f-aca8-7c9141ebd694\">\n",
              "  <button class=\"colab-df-quickchart\" onclick=\"quickchart('df-b61205a7-c909-443f-aca8-7c9141ebd694')\"\n",
              "            title=\"Suggest charts\"\n",
              "            style=\"display:none;\">\n",
              "\n",
              "<svg xmlns=\"http://www.w3.org/2000/svg\" height=\"24px\"viewBox=\"0 0 24 24\"\n",
              "     width=\"24px\">\n",
              "    <g>\n",
              "        <path d=\"M19 3H5c-1.1 0-2 .9-2 2v14c0 1.1.9 2 2 2h14c1.1 0 2-.9 2-2V5c0-1.1-.9-2-2-2zM9 17H7v-7h2v7zm4 0h-2V7h2v10zm4 0h-2v-4h2v4z\"/>\n",
              "    </g>\n",
              "</svg>\n",
              "  </button>\n",
              "\n",
              "<style>\n",
              "  .colab-df-quickchart {\n",
              "      --bg-color: #E8F0FE;\n",
              "      --fill-color: #1967D2;\n",
              "      --hover-bg-color: #E2EBFA;\n",
              "      --hover-fill-color: #174EA6;\n",
              "      --disabled-fill-color: #AAA;\n",
              "      --disabled-bg-color: #DDD;\n",
              "  }\n",
              "\n",
              "  [theme=dark] .colab-df-quickchart {\n",
              "      --bg-color: #3B4455;\n",
              "      --fill-color: #D2E3FC;\n",
              "      --hover-bg-color: #434B5C;\n",
              "      --hover-fill-color: #FFFFFF;\n",
              "      --disabled-bg-color: #3B4455;\n",
              "      --disabled-fill-color: #666;\n",
              "  }\n",
              "\n",
              "  .colab-df-quickchart {\n",
              "    background-color: var(--bg-color);\n",
              "    border: none;\n",
              "    border-radius: 50%;\n",
              "    cursor: pointer;\n",
              "    display: none;\n",
              "    fill: var(--fill-color);\n",
              "    height: 32px;\n",
              "    padding: 0;\n",
              "    width: 32px;\n",
              "  }\n",
              "\n",
              "  .colab-df-quickchart:hover {\n",
              "    background-color: var(--hover-bg-color);\n",
              "    box-shadow: 0 1px 2px rgba(60, 64, 67, 0.3), 0 1px 3px 1px rgba(60, 64, 67, 0.15);\n",
              "    fill: var(--button-hover-fill-color);\n",
              "  }\n",
              "\n",
              "  .colab-df-quickchart-complete:disabled,\n",
              "  .colab-df-quickchart-complete:disabled:hover {\n",
              "    background-color: var(--disabled-bg-color);\n",
              "    fill: var(--disabled-fill-color);\n",
              "    box-shadow: none;\n",
              "  }\n",
              "\n",
              "  .colab-df-spinner {\n",
              "    border: 2px solid var(--fill-color);\n",
              "    border-color: transparent;\n",
              "    border-bottom-color: var(--fill-color);\n",
              "    animation:\n",
              "      spin 1s steps(1) infinite;\n",
              "  }\n",
              "\n",
              "  @keyframes spin {\n",
              "    0% {\n",
              "      border-color: transparent;\n",
              "      border-bottom-color: var(--fill-color);\n",
              "      border-left-color: var(--fill-color);\n",
              "    }\n",
              "    20% {\n",
              "      border-color: transparent;\n",
              "      border-left-color: var(--fill-color);\n",
              "      border-top-color: var(--fill-color);\n",
              "    }\n",
              "    30% {\n",
              "      border-color: transparent;\n",
              "      border-left-color: var(--fill-color);\n",
              "      border-top-color: var(--fill-color);\n",
              "      border-right-color: var(--fill-color);\n",
              "    }\n",
              "    40% {\n",
              "      border-color: transparent;\n",
              "      border-right-color: var(--fill-color);\n",
              "      border-top-color: var(--fill-color);\n",
              "    }\n",
              "    60% {\n",
              "      border-color: transparent;\n",
              "      border-right-color: var(--fill-color);\n",
              "    }\n",
              "    80% {\n",
              "      border-color: transparent;\n",
              "      border-right-color: var(--fill-color);\n",
              "      border-bottom-color: var(--fill-color);\n",
              "    }\n",
              "    90% {\n",
              "      border-color: transparent;\n",
              "      border-bottom-color: var(--fill-color);\n",
              "    }\n",
              "  }\n",
              "</style>\n",
              "\n",
              "  <script>\n",
              "    async function quickchart(key) {\n",
              "      const quickchartButtonEl =\n",
              "        document.querySelector('#' + key + ' button');\n",
              "      quickchartButtonEl.disabled = true;  // To prevent multiple clicks.\n",
              "      quickchartButtonEl.classList.add('colab-df-spinner');\n",
              "      try {\n",
              "        const charts = await google.colab.kernel.invokeFunction(\n",
              "            'suggestCharts', [key], {});\n",
              "      } catch (error) {\n",
              "        console.error('Error during call to suggestCharts:', error);\n",
              "      }\n",
              "      quickchartButtonEl.classList.remove('colab-df-spinner');\n",
              "      quickchartButtonEl.classList.add('colab-df-quickchart-complete');\n",
              "    }\n",
              "    (() => {\n",
              "      let quickchartButtonEl =\n",
              "        document.querySelector('#df-b61205a7-c909-443f-aca8-7c9141ebd694 button');\n",
              "      quickchartButtonEl.style.display =\n",
              "        google.colab.kernel.accessAllowed ? 'block' : 'none';\n",
              "    })();\n",
              "  </script>\n",
              "</div>\n",
              "\n",
              "    </div>\n",
              "  </div>\n"
            ],
            "application/vnd.google.colaboratory.intrinsic+json": {
              "type": "dataframe",
              "variable_name": "df"
            }
          },
          "metadata": {},
          "execution_count": 10
        }
      ],
      "source": [
        "df = pd.read_csv('PSP_E1toE7_July23_nonoise.txt', sep = \"\\t\", parse_dates=['Datetime'],#PSP_E1toE7_July23_nonoise.txt\n",
        "                 infer_datetime_format=True,\n",
        "                 index_col='Datetime',)\n",
        "\n",
        "Class= df['Class'].astype('int')\n",
        "df.Class = df.Class.replace({True: 1, False: 0})\n",
        "df.pop(\"indices\")\n",
        "df.pop(\"Encounter\")\n",
        "X_HCI_train = df.pop(\"X_HCI\")\n",
        "Y_HCI_train = df.pop(\"Y_HCI\")\n",
        "Z_HCI_train = df.pop(\"Z_HCI\")\n",
        "#ProtonDensity_train = df.pop(\"ProtonDensity\")\n",
        "df.pop(\"Dist\")\n",
        "#df.pop(\"Vmag\")\n",
        "#df.pop(\"Bmag\")\n",
        "#df.pop(\"V_nr\")\n",
        "#df.pop(\"B_t\")\n",
        "#df.pop(\"B_n\")\n",
        "#df.pop(\"V_n\")\n",
        "#df.pop(\"V_t\")\n",
        "df.head()"
      ]
    },
    {
      "cell_type": "markdown",
      "source": [
        "**IMPORTANT: All dataframes MUST have the exact number of columns and variables in the same order.**"
      ],
      "metadata": {
        "id": "2HY5OYODHBhk"
      }
    },
    {
      "cell_type": "markdown",
      "source": [
        "Optional file: load this in if you want to do additional evaluations on ParkerNet predictions"
      ],
      "metadata": {
        "id": "tqluVIjTuSdk"
      }
    },
    {
      "cell_type": "code",
      "execution_count": null,
      "metadata": {
        "colab": {
          "base_uri": "https://localhost:8080/",
          "height": 327
        },
        "id": "LrpNSUHXYfdv",
        "outputId": "a4e7bbab-9ebd-456b-9805-adcd63aff0e1"
      },
      "outputs": [
        {
          "output_type": "stream",
          "name": "stderr",
          "text": [
            "<ipython-input-11-976ce052e2a5>:1: FutureWarning: The argument 'infer_datetime_format' is deprecated and will be removed in a future version. A strict version of it is now the default, see https://pandas.pydata.org/pdeps/0004-consistent-to-datetime-parsing.html. You can safely remove this argument.\n",
            "  df_eval = pd.read_csv('PSP_E15.txt', sep = \"\\t\", parse_dates=['Datetime'],\n",
            "<ipython-input-11-976ce052e2a5>:6: FutureWarning: Downcasting behavior in `replace` is deprecated and will be removed in a future version. To retain the old behavior, explicitly call `result.infer_objects(copy=False)`. To opt-in to the future behavior, set `pd.set_option('future.no_silent_downcasting', True)`\n",
            "  df_eval.Class = df_eval.Class.replace({True: 1, False: 0})\n"
          ]
        },
        {
          "output_type": "execute_result",
          "data": {
            "text/plain": [
              "                                      B_r        Bmag        B_t        B_n  \\\n",
              "Datetime                                                                      \n",
              "2023-03-14 00:00:00.000000000  119.634033  126.446237 -33.865352 -23.010583   \n",
              "2023-03-14 00:00:00.873799999  118.104463  125.810862 -26.227469 -34.522871   \n",
              "2023-03-14 00:00:01.747599999  117.741037  124.677655 -32.991824 -24.353753   \n",
              "2023-03-14 00:00:02.621399999  120.912992  125.529900 -32.727764  -8.166860   \n",
              "2023-03-14 00:00:03.495199999  119.837041  125.240096 -32.149696 -17.045884   \n",
              "\n",
              "                                   V_r      V_t      V_n        Vmag  \\\n",
              "Datetime                                                               \n",
              "2023-03-14 00:00:00.000000000  436.554 -7.60553  88.2408  445.447727   \n",
              "2023-03-14 00:00:00.873799999  436.554 -7.60553  88.2408  445.447727   \n",
              "2023-03-14 00:00:01.747599999  436.554 -7.60553  88.2408  445.447727   \n",
              "2023-03-14 00:00:02.621399999  436.554 -7.60553  88.2408  445.447727   \n",
              "2023-03-14 00:00:03.495199999  436.554 -7.60553  88.2408  445.447727   \n",
              "\n",
              "                                    V_nr  ProtonDensity  Class  \n",
              "Datetime                                                        \n",
              "2023-03-14 00:00:00.000000000  88.567956        15.8135      0  \n",
              "2023-03-14 00:00:00.873799999  88.567956        15.8135      0  \n",
              "2023-03-14 00:00:01.747599999  88.567956        15.8135      0  \n",
              "2023-03-14 00:00:02.621399999  88.567956        15.8135      0  \n",
              "2023-03-14 00:00:03.495199999  88.567956        15.8135      0  "
            ],
            "text/html": [
              "\n",
              "  <div id=\"df-f23f6ab3-cf45-40b2-8c3a-4402450833d4\" class=\"colab-df-container\">\n",
              "    <div>\n",
              "<style scoped>\n",
              "    .dataframe tbody tr th:only-of-type {\n",
              "        vertical-align: middle;\n",
              "    }\n",
              "\n",
              "    .dataframe tbody tr th {\n",
              "        vertical-align: top;\n",
              "    }\n",
              "\n",
              "    .dataframe thead th {\n",
              "        text-align: right;\n",
              "    }\n",
              "</style>\n",
              "<table border=\"1\" class=\"dataframe\">\n",
              "  <thead>\n",
              "    <tr style=\"text-align: right;\">\n",
              "      <th></th>\n",
              "      <th>B_r</th>\n",
              "      <th>Bmag</th>\n",
              "      <th>B_t</th>\n",
              "      <th>B_n</th>\n",
              "      <th>V_r</th>\n",
              "      <th>V_t</th>\n",
              "      <th>V_n</th>\n",
              "      <th>Vmag</th>\n",
              "      <th>V_nr</th>\n",
              "      <th>ProtonDensity</th>\n",
              "      <th>Class</th>\n",
              "    </tr>\n",
              "    <tr>\n",
              "      <th>Datetime</th>\n",
              "      <th></th>\n",
              "      <th></th>\n",
              "      <th></th>\n",
              "      <th></th>\n",
              "      <th></th>\n",
              "      <th></th>\n",
              "      <th></th>\n",
              "      <th></th>\n",
              "      <th></th>\n",
              "      <th></th>\n",
              "      <th></th>\n",
              "    </tr>\n",
              "  </thead>\n",
              "  <tbody>\n",
              "    <tr>\n",
              "      <th>2023-03-14 00:00:00.000000000</th>\n",
              "      <td>119.634033</td>\n",
              "      <td>126.446237</td>\n",
              "      <td>-33.865352</td>\n",
              "      <td>-23.010583</td>\n",
              "      <td>436.554</td>\n",
              "      <td>-7.60553</td>\n",
              "      <td>88.2408</td>\n",
              "      <td>445.447727</td>\n",
              "      <td>88.567956</td>\n",
              "      <td>15.8135</td>\n",
              "      <td>0</td>\n",
              "    </tr>\n",
              "    <tr>\n",
              "      <th>2023-03-14 00:00:00.873799999</th>\n",
              "      <td>118.104463</td>\n",
              "      <td>125.810862</td>\n",
              "      <td>-26.227469</td>\n",
              "      <td>-34.522871</td>\n",
              "      <td>436.554</td>\n",
              "      <td>-7.60553</td>\n",
              "      <td>88.2408</td>\n",
              "      <td>445.447727</td>\n",
              "      <td>88.567956</td>\n",
              "      <td>15.8135</td>\n",
              "      <td>0</td>\n",
              "    </tr>\n",
              "    <tr>\n",
              "      <th>2023-03-14 00:00:01.747599999</th>\n",
              "      <td>117.741037</td>\n",
              "      <td>124.677655</td>\n",
              "      <td>-32.991824</td>\n",
              "      <td>-24.353753</td>\n",
              "      <td>436.554</td>\n",
              "      <td>-7.60553</td>\n",
              "      <td>88.2408</td>\n",
              "      <td>445.447727</td>\n",
              "      <td>88.567956</td>\n",
              "      <td>15.8135</td>\n",
              "      <td>0</td>\n",
              "    </tr>\n",
              "    <tr>\n",
              "      <th>2023-03-14 00:00:02.621399999</th>\n",
              "      <td>120.912992</td>\n",
              "      <td>125.529900</td>\n",
              "      <td>-32.727764</td>\n",
              "      <td>-8.166860</td>\n",
              "      <td>436.554</td>\n",
              "      <td>-7.60553</td>\n",
              "      <td>88.2408</td>\n",
              "      <td>445.447727</td>\n",
              "      <td>88.567956</td>\n",
              "      <td>15.8135</td>\n",
              "      <td>0</td>\n",
              "    </tr>\n",
              "    <tr>\n",
              "      <th>2023-03-14 00:00:03.495199999</th>\n",
              "      <td>119.837041</td>\n",
              "      <td>125.240096</td>\n",
              "      <td>-32.149696</td>\n",
              "      <td>-17.045884</td>\n",
              "      <td>436.554</td>\n",
              "      <td>-7.60553</td>\n",
              "      <td>88.2408</td>\n",
              "      <td>445.447727</td>\n",
              "      <td>88.567956</td>\n",
              "      <td>15.8135</td>\n",
              "      <td>0</td>\n",
              "    </tr>\n",
              "  </tbody>\n",
              "</table>\n",
              "</div>\n",
              "    <div class=\"colab-df-buttons\">\n",
              "\n",
              "  <div class=\"colab-df-container\">\n",
              "    <button class=\"colab-df-convert\" onclick=\"convertToInteractive('df-f23f6ab3-cf45-40b2-8c3a-4402450833d4')\"\n",
              "            title=\"Convert this dataframe to an interactive table.\"\n",
              "            style=\"display:none;\">\n",
              "\n",
              "  <svg xmlns=\"http://www.w3.org/2000/svg\" height=\"24px\" viewBox=\"0 -960 960 960\">\n",
              "    <path d=\"M120-120v-720h720v720H120Zm60-500h600v-160H180v160Zm220 220h160v-160H400v160Zm0 220h160v-160H400v160ZM180-400h160v-160H180v160Zm440 0h160v-160H620v160ZM180-180h160v-160H180v160Zm440 0h160v-160H620v160Z\"/>\n",
              "  </svg>\n",
              "    </button>\n",
              "\n",
              "  <style>\n",
              "    .colab-df-container {\n",
              "      display:flex;\n",
              "      gap: 12px;\n",
              "    }\n",
              "\n",
              "    .colab-df-convert {\n",
              "      background-color: #E8F0FE;\n",
              "      border: none;\n",
              "      border-radius: 50%;\n",
              "      cursor: pointer;\n",
              "      display: none;\n",
              "      fill: #1967D2;\n",
              "      height: 32px;\n",
              "      padding: 0 0 0 0;\n",
              "      width: 32px;\n",
              "    }\n",
              "\n",
              "    .colab-df-convert:hover {\n",
              "      background-color: #E2EBFA;\n",
              "      box-shadow: 0px 1px 2px rgba(60, 64, 67, 0.3), 0px 1px 3px 1px rgba(60, 64, 67, 0.15);\n",
              "      fill: #174EA6;\n",
              "    }\n",
              "\n",
              "    .colab-df-buttons div {\n",
              "      margin-bottom: 4px;\n",
              "    }\n",
              "\n",
              "    [theme=dark] .colab-df-convert {\n",
              "      background-color: #3B4455;\n",
              "      fill: #D2E3FC;\n",
              "    }\n",
              "\n",
              "    [theme=dark] .colab-df-convert:hover {\n",
              "      background-color: #434B5C;\n",
              "      box-shadow: 0px 1px 3px 1px rgba(0, 0, 0, 0.15);\n",
              "      filter: drop-shadow(0px 1px 2px rgba(0, 0, 0, 0.3));\n",
              "      fill: #FFFFFF;\n",
              "    }\n",
              "  </style>\n",
              "\n",
              "    <script>\n",
              "      const buttonEl =\n",
              "        document.querySelector('#df-f23f6ab3-cf45-40b2-8c3a-4402450833d4 button.colab-df-convert');\n",
              "      buttonEl.style.display =\n",
              "        google.colab.kernel.accessAllowed ? 'block' : 'none';\n",
              "\n",
              "      async function convertToInteractive(key) {\n",
              "        const element = document.querySelector('#df-f23f6ab3-cf45-40b2-8c3a-4402450833d4');\n",
              "        const dataTable =\n",
              "          await google.colab.kernel.invokeFunction('convertToInteractive',\n",
              "                                                    [key], {});\n",
              "        if (!dataTable) return;\n",
              "\n",
              "        const docLinkHtml = 'Like what you see? Visit the ' +\n",
              "          '<a target=\"_blank\" href=https://colab.research.google.com/notebooks/data_table.ipynb>data table notebook</a>'\n",
              "          + ' to learn more about interactive tables.';\n",
              "        element.innerHTML = '';\n",
              "        dataTable['output_type'] = 'display_data';\n",
              "        await google.colab.output.renderOutput(dataTable, element);\n",
              "        const docLink = document.createElement('div');\n",
              "        docLink.innerHTML = docLinkHtml;\n",
              "        element.appendChild(docLink);\n",
              "      }\n",
              "    </script>\n",
              "  </div>\n",
              "\n",
              "\n",
              "<div id=\"df-963aedbc-2f56-4151-ae43-4339808bbac3\">\n",
              "  <button class=\"colab-df-quickchart\" onclick=\"quickchart('df-963aedbc-2f56-4151-ae43-4339808bbac3')\"\n",
              "            title=\"Suggest charts\"\n",
              "            style=\"display:none;\">\n",
              "\n",
              "<svg xmlns=\"http://www.w3.org/2000/svg\" height=\"24px\"viewBox=\"0 0 24 24\"\n",
              "     width=\"24px\">\n",
              "    <g>\n",
              "        <path d=\"M19 3H5c-1.1 0-2 .9-2 2v14c0 1.1.9 2 2 2h14c1.1 0 2-.9 2-2V5c0-1.1-.9-2-2-2zM9 17H7v-7h2v7zm4 0h-2V7h2v10zm4 0h-2v-4h2v4z\"/>\n",
              "    </g>\n",
              "</svg>\n",
              "  </button>\n",
              "\n",
              "<style>\n",
              "  .colab-df-quickchart {\n",
              "      --bg-color: #E8F0FE;\n",
              "      --fill-color: #1967D2;\n",
              "      --hover-bg-color: #E2EBFA;\n",
              "      --hover-fill-color: #174EA6;\n",
              "      --disabled-fill-color: #AAA;\n",
              "      --disabled-bg-color: #DDD;\n",
              "  }\n",
              "\n",
              "  [theme=dark] .colab-df-quickchart {\n",
              "      --bg-color: #3B4455;\n",
              "      --fill-color: #D2E3FC;\n",
              "      --hover-bg-color: #434B5C;\n",
              "      --hover-fill-color: #FFFFFF;\n",
              "      --disabled-bg-color: #3B4455;\n",
              "      --disabled-fill-color: #666;\n",
              "  }\n",
              "\n",
              "  .colab-df-quickchart {\n",
              "    background-color: var(--bg-color);\n",
              "    border: none;\n",
              "    border-radius: 50%;\n",
              "    cursor: pointer;\n",
              "    display: none;\n",
              "    fill: var(--fill-color);\n",
              "    height: 32px;\n",
              "    padding: 0;\n",
              "    width: 32px;\n",
              "  }\n",
              "\n",
              "  .colab-df-quickchart:hover {\n",
              "    background-color: var(--hover-bg-color);\n",
              "    box-shadow: 0 1px 2px rgba(60, 64, 67, 0.3), 0 1px 3px 1px rgba(60, 64, 67, 0.15);\n",
              "    fill: var(--button-hover-fill-color);\n",
              "  }\n",
              "\n",
              "  .colab-df-quickchart-complete:disabled,\n",
              "  .colab-df-quickchart-complete:disabled:hover {\n",
              "    background-color: var(--disabled-bg-color);\n",
              "    fill: var(--disabled-fill-color);\n",
              "    box-shadow: none;\n",
              "  }\n",
              "\n",
              "  .colab-df-spinner {\n",
              "    border: 2px solid var(--fill-color);\n",
              "    border-color: transparent;\n",
              "    border-bottom-color: var(--fill-color);\n",
              "    animation:\n",
              "      spin 1s steps(1) infinite;\n",
              "  }\n",
              "\n",
              "  @keyframes spin {\n",
              "    0% {\n",
              "      border-color: transparent;\n",
              "      border-bottom-color: var(--fill-color);\n",
              "      border-left-color: var(--fill-color);\n",
              "    }\n",
              "    20% {\n",
              "      border-color: transparent;\n",
              "      border-left-color: var(--fill-color);\n",
              "      border-top-color: var(--fill-color);\n",
              "    }\n",
              "    30% {\n",
              "      border-color: transparent;\n",
              "      border-left-color: var(--fill-color);\n",
              "      border-top-color: var(--fill-color);\n",
              "      border-right-color: var(--fill-color);\n",
              "    }\n",
              "    40% {\n",
              "      border-color: transparent;\n",
              "      border-right-color: var(--fill-color);\n",
              "      border-top-color: var(--fill-color);\n",
              "    }\n",
              "    60% {\n",
              "      border-color: transparent;\n",
              "      border-right-color: var(--fill-color);\n",
              "    }\n",
              "    80% {\n",
              "      border-color: transparent;\n",
              "      border-right-color: var(--fill-color);\n",
              "      border-bottom-color: var(--fill-color);\n",
              "    }\n",
              "    90% {\n",
              "      border-color: transparent;\n",
              "      border-bottom-color: var(--fill-color);\n",
              "    }\n",
              "  }\n",
              "</style>\n",
              "\n",
              "  <script>\n",
              "    async function quickchart(key) {\n",
              "      const quickchartButtonEl =\n",
              "        document.querySelector('#' + key + ' button');\n",
              "      quickchartButtonEl.disabled = true;  // To prevent multiple clicks.\n",
              "      quickchartButtonEl.classList.add('colab-df-spinner');\n",
              "      try {\n",
              "        const charts = await google.colab.kernel.invokeFunction(\n",
              "            'suggestCharts', [key], {});\n",
              "      } catch (error) {\n",
              "        console.error('Error during call to suggestCharts:', error);\n",
              "      }\n",
              "      quickchartButtonEl.classList.remove('colab-df-spinner');\n",
              "      quickchartButtonEl.classList.add('colab-df-quickchart-complete');\n",
              "    }\n",
              "    (() => {\n",
              "      let quickchartButtonEl =\n",
              "        document.querySelector('#df-963aedbc-2f56-4151-ae43-4339808bbac3 button');\n",
              "      quickchartButtonEl.style.display =\n",
              "        google.colab.kernel.accessAllowed ? 'block' : 'none';\n",
              "    })();\n",
              "  </script>\n",
              "</div>\n",
              "\n",
              "    </div>\n",
              "  </div>\n"
            ],
            "application/vnd.google.colaboratory.intrinsic+json": {
              "type": "dataframe",
              "variable_name": "df_eval"
            }
          },
          "metadata": {},
          "execution_count": 11
        }
      ],
      "source": [
        "df_eval = pd.read_csv('PSP_E15.txt', sep = \"\\t\", parse_dates=['Datetime'],\n",
        "                 infer_datetime_format=True,\n",
        "                 index_col='Datetime',)\n",
        "\n",
        "Class= df_eval['Class'].astype('int')\n",
        "df_eval.Class = df_eval.Class.replace({True: 1, False: 0})\n",
        "df_eval.pop(\"indices\")\n",
        "df_eval.pop(\"Dist\")\n",
        "#df_eval.pop(\"Vmag\")\n",
        "#df_eval.pop(\"Bmag\")\n",
        "#df_eval.pop(\"B_n\")\n",
        "#df_eval.pop(\"B_t\")\n",
        "#df_eval.pop(\"V_nr\")\n",
        "#df_eval.pop(\"V_t\")\n",
        "#df_eval.pop(\"V_n\")\n",
        "df_eval.pop(\"X_HCI\")\n",
        "df_eval.pop(\"Y_HCI\")\n",
        "df_eval.pop(\"Z_HCI\")\n",
        "#ProtonDensity_test = df_eval.pop(\"ProtonDensity\")\n",
        "df_eval.head()"
      ]
    },
    {
      "cell_type": "markdown",
      "source": [
        "# ====== Create Data Splits : Train -Val - Test ======"
      ],
      "metadata": {
        "id": "NSXS-3tZHvAR"
      }
    },
    {
      "cell_type": "markdown",
      "source": [
        "Splitting the dataset into various train-validation-test splits."
      ],
      "metadata": {
        "id": "EdRB_UOewJRC"
      }
    },
    {
      "cell_type": "markdown",
      "source": [
        "# **Split M**\n",
        "\n"
      ],
      "metadata": {
        "id": "8q_tMbbJwPoW"
      }
    },
    {
      "cell_type": "markdown",
      "source": [
        "| **Split M has data from the following dates** |\n",
        "|---------------------------|\n",
        "| 2018-11-04 |\n",
        "| 2018-11-05 |\n",
        "| 2018-11-06 |\n",
        "| 2018-11-07 |\n",
        "| 2018-11-08 |\n",
        "| 2019-04-02 |\n",
        "| 2019-04-03 |\n",
        "| 2019-04-04 |\n",
        "| 2019-04-05 |\n",
        "| 2019-04-06 |\n",
        "| 2019-04-07 |\n",
        "| 2019-08-26 |\n",
        "| 2019-08-27 |\n",
        "| 2019-08-28 |\n",
        "| 2019-08-29 |\n",
        "| 2019-08-30 |\n",
        "| 2019-08-31 |\n",
        "| 2020-01-27 |\n",
        "| 2020-01-28 |\n",
        "| 2020-01-29 |\n",
        "| 2020-01-31 |\n",
        "| 2020-02-01 |\n"
      ],
      "metadata": {
        "id": "Oj3tgArxB1XF"
      }
    },
    {
      "cell_type": "code",
      "execution_count": null,
      "metadata": {
        "id": "yNf7sPpm5-Pa"
      },
      "outputs": [],
      "source": [
        "#test M`, train: E1 to E4, val:E5-E6 EOD Sept 23, test 1:E6 Sept 24 + E7 , test2: E15\n",
        "Xtrain = df.iloc[0:1615023,:-1] #everything but the last column (split1)\n",
        "ytrain = df.iloc[0:1615023,-1]#only pick the last column\n",
        "Xval = df.iloc[1615023:1788065,:-1] #everything but the last column (split 1)\n",
        "yval = df.iloc[1615023:1788065,-1]#only pick the last column\n",
        "Xtest1 = df.iloc[1788065:,:-1] #everything but the last column\n",
        "ytest1 = df.iloc[1788065:,-1]#only pick the last column"
      ]
    },
    {
      "cell_type": "markdown",
      "source": [
        "# **Split N**"
      ],
      "metadata": {
        "id": "ueviaf52wPHj"
      }
    },
    {
      "cell_type": "markdown",
      "source": [
        "| **Split N has data from the following dates** |\n",
        "|---------------------------|\n",
        "| 2018-11-04 |\n",
        "| 2018-11-05 |\n",
        "| 2018-11-06 |\n",
        "| 2018-11-07 |\n",
        "| 2018-11-08 |\n",
        "| 2019-04-02 |\n",
        "| 2019-04-03 |\n",
        "| 2019-04-04 |\n",
        "| 2019-04-05 |\n",
        "| 2019-04-06 |\n",
        "| 2019-04-07 |\n",
        "| 2019-08-26 |\n",
        "| 2019-08-27 |\n",
        "| 2019-08-28 |\n",
        "| 2019-08-29 |\n",
        "| 2019-08-30 |\n",
        "| 2019-08-31 |\n"
      ],
      "metadata": {
        "id": "C7ufmIqTCM9s"
      }
    },
    {
      "cell_type": "code",
      "source": [
        "#test N`, train: E1 to E3, val:E4-E6 EOD Sept 23, test 1:E6 Sept 24 + E7 , test2: E15\n",
        "Xtrain = df.iloc[0:1338985,:-1] #everything but the last column (split1)\n",
        "ytrain = df.iloc[0:1338985,-1]#only pick the last column\n",
        "Xval = df.iloc[1338985:1788065,:-1] #everything but the last column (split 1)\n",
        "yval = df.iloc[1338985:1788065,-1]#only pick the last column\n",
        "Xtest1 = df.iloc[1788065:,:-1] #everything but the last column\n",
        "ytest1 = df.iloc[1788065:,-1]#only pick the last column"
      ],
      "metadata": {
        "id": "BCo3nWYLbghN"
      },
      "execution_count": null,
      "outputs": []
    },
    {
      "cell_type": "markdown",
      "source": [
        "# **Split P**"
      ],
      "metadata": {
        "id": "BcqTjcxawS3m"
      }
    },
    {
      "cell_type": "markdown",
      "source": [
        "| **Split N has data from the following dates** |\n",
        "|---------------------------|\n",
        "| 2019-08-26 |\n",
        "| 2019-08-27 |\n",
        "| 2019-08-28 |\n",
        "| 2019-08-29 |\n",
        "| 2019-08-30 |\n",
        "| 2019-08-31 |\n",
        "| 2020-01-27 |\n",
        "| 2020-01-28 |\n",
        "| 2020-01-29 |\n",
        "| 2020-01-31 |\n",
        "| 2020-02-01 |\n",
        "\n",
        "   "
      ],
      "metadata": {
        "id": "3MYfyhhmCuut"
      }
    },
    {
      "cell_type": "code",
      "source": [
        "#test P`, train: E3 to E4, val:E5-E6 EOD SEPT 23, test 1:E6 Sept 24 + E7 , test2: E15\n",
        "Xtrain = df.iloc[786732:1615023,:-1] #everything but the last column (split1)\n",
        "ytrain = df.iloc[786732:1615023,-1]#only pick the last column\n",
        "Xval = df.iloc[1615023:1788065,:-1] #everything but the last column (split 1)\n",
        "yval = df.iloc[1615023:1788065,-1]#only pick the last column\n",
        "Xtest1 = df.iloc[1788065:,:-1] #everything but the last column\n",
        "ytest1 = df.iloc[1788065:,-1]#only pick the last column"
      ],
      "metadata": {
        "id": "5jzRKiyelydj"
      },
      "execution_count": null,
      "outputs": []
    },
    {
      "cell_type": "code",
      "execution_count": null,
      "metadata": {
        "id": "I5NP6hB4dVat"
      },
      "outputs": [],
      "source": [
        "#uncomment these if you want to test how well ParkerNet does in additional datasets\n",
        "\n",
        "#Xtest2 = df_eval.iloc[:,:-1] #everything but the last column\n",
        "#ytest2 = df_eval.iloc[:,-1]#only pick the last column\n",
        "\n"
      ]
    },
    {
      "cell_type": "markdown",
      "metadata": {
        "id": "ehrFg53rPU_m"
      },
      "source": [
        "Quick check to see the amount of positive (switchback) cases in each split"
      ]
    },
    {
      "cell_type": "code",
      "execution_count": null,
      "metadata": {
        "colab": {
          "base_uri": "https://localhost:8080/"
        },
        "id": "8XMCrDF7v2V3",
        "outputId": "f204dbe1-1529-4204-e1d5-10aeab4140ef"
      },
      "outputs": [
        {
          "output_type": "stream",
          "name": "stdout",
          "text": [
            "Examples in Train Set:\n",
            "    Total: 1615023\n",
            "    Positive: 195085 (12.08% of total)\n",
            "\n",
            "Examples in Val Set:\n",
            "    Total: 173042\n",
            "    Positive: 45574 (26.34% of total)\n",
            "\n",
            "Examples in Test set 1 Set:\n",
            "    Total: 230718\n",
            "    Positive: 56357 (24.43% of total)\n",
            "\n",
            "Examples in Test set 2 Set:\n",
            "    Total: 197758\n",
            "    Positive: 30622 (15.48% of total)\n",
            "\n"
          ]
        }
      ],
      "source": [
        "neg, pos = np.bincount(ytrain)\n",
        "total = neg + pos\n",
        "print('Examples in Train Set:\\n    Total: {}\\n    Positive: {} ({:.2f}% of total)\\n'.format(\n",
        "    total, pos, 100 * pos / total))\n",
        "\n",
        "neg, pos = np.bincount(yval)\n",
        "total = neg + pos\n",
        "print('Examples in Val Set:\\n    Total: {}\\n    Positive: {} ({:.2f}% of total)\\n'.format(\n",
        "    total, pos, 100 * pos / total))\n",
        "\n",
        "neg, pos = np.bincount(ytest1)\n",
        "total = neg + pos\n",
        "print('Examples in Test set 1 Set:\\n    Total: {}\\n    Positive: {} ({:.2f}% of total)\\n'.format(\n",
        "    total, pos, 100 * pos / total))\n",
        "\n",
        "neg, pos = np.bincount(ytest2)\n",
        "total = neg + pos\n",
        "print('Examples in Test set 2 Set:\\n    Total: {}\\n    Positive: {} ({:.2f}% of total)\\n'.format(\n",
        "    total, pos, 100 * pos / total))"
      ]
    },
    {
      "cell_type": "markdown",
      "source": [
        "# ====== Data Normalization ======"
      ],
      "metadata": {
        "id": "mm25UCrLH3NV"
      }
    },
    {
      "cell_type": "markdown",
      "source": [
        "Z-score normalization. Note that the mean and std of the TRAIN SET is used for all sets. This is to avoid data leakage; the network must not know anything about future information."
      ],
      "metadata": {
        "id": "cJUF5p9YwjqG"
      }
    },
    {
      "cell_type": "code",
      "execution_count": null,
      "metadata": {
        "id": "sITBgA6aZ2Zi"
      },
      "outputs": [],
      "source": [
        "train_mean = Xtrain.mean()\n",
        "train_std = Xtrain.std()\n",
        "\n",
        "train_df = (Xtrain - train_mean) / train_std\n",
        "val_df = (Xval - train_mean) / train_std\n",
        "test_df = (Xtest1 - train_mean) / train_std\n",
        "#uncomment the following code if you want to play around with the optional datasets\n",
        "#eval_df = (Xtest2 - train_mean) / train_std\n"
      ]
    },
    {
      "cell_type": "markdown",
      "source": [
        "# ====== Create Data Sequences ======"
      ],
      "metadata": {
        "id": "zNjLaou_H9aI"
      }
    },
    {
      "cell_type": "markdown",
      "source": [
        "Since ParkerNet contains a sequence learning component (LSTM) we need to convert the data into sequences. After hyperparameter tuning, the best sequence length was found to be 50."
      ],
      "metadata": {
        "id": "rIgu1_LoxQSe"
      }
    },
    {
      "cell_type": "code",
      "execution_count": null,
      "metadata": {
        "id": "Kj-Gwfq9Z4tu"
      },
      "outputs": [],
      "source": [
        "def split_sequences_nolags(dataset,labels, time_steps):\n",
        "    data_X, data_Y = [], []\n",
        "    for i in range(len(dataset)-time_steps):\n",
        "        a = dataset.iloc[i:(i+time_steps)]\n",
        "        data_X.append(a)\n",
        "        data_Y.append(labels.iloc[i:i + time_steps])\n",
        "    return np.array(data_X), np.array(data_Y)"
      ]
    },
    {
      "cell_type": "code",
      "execution_count": null,
      "metadata": {
        "id": "8sKRQUHaZ6-S"
      },
      "outputs": [],
      "source": [
        "train_features_new, train_labels_new = split_sequences_nolags(train_df,ytrain,50) #originally 343, previously:90, tried: 72, 25, current: 50\n",
        "val_features_new, val_labels_new = split_sequences_nolags(val_df,yval,50)\n",
        "test_features_new, test_labels_new = split_sequences_nolags(test_df,ytest1,50)\n",
        "#eval_features_new, eval_labels_new = split_sequences_nolags(eval_df,ytest2,50) #uncomment if you want to use the optional files\n",
        "\n",
        "n_timesteps, n_features, n_outputs = train_features_new.shape[1],train_features_new.shape[2],train_labels_new.shape[1]\n",
        "train_labels_new= train_labels_new.astype('float64')\n",
        "val_labels_new = val_labels_new.astype('float64')\n",
        "test_labels_new = test_labels_new.astype('float64')\n",
        "#eval_labels_new = eval_labels_new.astype('float64') #uncomment if using optional files"
      ]
    },
    {
      "cell_type": "markdown",
      "source": [
        "# ====== Setting up ParkerNet ======"
      ],
      "metadata": {
        "id": "Y4xZqou5ICrH"
      }
    },
    {
      "cell_type": "markdown",
      "source": [
        "Custom Binary Cross Entropy Loss Function. This modifies the regular binary cross entropy function to weigh the positive class more."
      ],
      "metadata": {
        "id": "f9iAxZ4vyC6g"
      }
    },
    {
      "cell_type": "code",
      "execution_count": null,
      "metadata": {
        "id": "2xbSzPISZ_tJ"
      },
      "outputs": [],
      "source": [
        "POS_WEIGHT = 200\n",
        "POS_WEIGHT = POS_WEIGHT\n",
        "\n",
        "def weighted_binary_crossentropy(target, output):\n",
        "    \"\"\"\n",
        "    Weighted binary crossentropy between an output tensor\n",
        "    and a target tensor. POS_WEIGHT is used as a multiplier\n",
        "    for the positive targets.\n",
        "\n",
        "    Combination of the following functions:\n",
        "    * keras.losses.binary_crossentropy\n",
        "    * keras.backend.tensorflow_backend.binary_crossentropy\n",
        "    * tf.nn.weighted_cross_entropy_with_logits\n",
        "    \"\"\"\n",
        "    # transform back to logits\n",
        "    _epsilon = tf.convert_to_tensor(tf.keras.backend.epsilon(), output.dtype.base_dtype)\n",
        "    output = tf.clip_by_value(output, _epsilon, 1 - _epsilon)\n",
        "    output = tf.math.log(output / (1 - output))\n",
        "    loss = tf.nn.weighted_cross_entropy_with_logits(labels=target, logits=output, pos_weight=POS_WEIGHT)\n",
        "\n",
        "    return tf.reduce_mean(loss, axis=-1)"
      ]
    },
    {
      "cell_type": "markdown",
      "source": [
        "Metrics for evaluation when training"
      ],
      "metadata": {
        "id": "rCnCtJ9ZyKd1"
      }
    },
    {
      "cell_type": "code",
      "execution_count": null,
      "metadata": {
        "id": "wvC3cP0vaC9g"
      },
      "outputs": [],
      "source": [
        "METRICS = [\n",
        "    keras.metrics.Precision(name = 'precision'),\n",
        "    keras.metrics.Recall(name = 'recall')\n",
        "]\n",
        "\n",
        "METRICS1 = [\n",
        "      keras.metrics.TruePositives(name='tp'),\n",
        "      keras.metrics.FalsePositives(name='fp'),\n",
        "      keras.metrics.TrueNegatives(name='tn'),\n",
        "      keras.metrics.FalseNegatives(name='fn'),\n",
        "      keras.metrics.BinaryAccuracy(name='accuracy'),\n",
        "      keras.metrics.Precision(name='precision'),\n",
        "      keras.metrics.Recall(name='recall'),\n",
        "      keras.metrics.AUC(name='auc'),\n",
        "      keras.metrics.AUC(name='prc', curve='PR'), # precision-recall curve\n",
        "]"
      ]
    },
    {
      "cell_type": "markdown",
      "source": [
        "# ====== Training Section ======"
      ],
      "metadata": {
        "id": "kStQb7khII0M"
      }
    },
    {
      "cell_type": "markdown",
      "source": [
        "\n",
        "This section trains the final models for the various splits. The best POS weight, learning rate, layer numbers, CNN kernel size, LSTM neuron numbers etc were determined via hyperparameter tuning using Optuna."
      ],
      "metadata": {
        "id": "dp8D5OJj2foT"
      }
    },
    {
      "cell_type": "markdown",
      "source": [
        "TRAINING SPLIT M"
      ],
      "metadata": {
        "id": "PuYyfUmoyq-v"
      }
    },
    {
      "cell_type": "code",
      "source": [
        "#SPLIT M\n",
        "\n",
        "# Set seed for reproducibility, remember to set seed IN THE CELL YOU ARE RUNNING THE TRAINING.\n",
        "my_seed = 3364\n",
        "np.random.seed(my_seed)\n",
        "random.seed(my_seed)\n",
        "tf.random.set_seed(my_seed)\n",
        "keras.utils.set_random_seed(my_seed)\n",
        "\n",
        "initializer_He = keras.initializers.HeNormal(seed=my_seed)\n",
        "initializer_Glorot = keras.initializers.GlorotUniform(seed=my_seed)\n",
        "POS_WEIGHT = 8\n",
        "\n",
        "# Define the model\n",
        "model4 = Sequential([\n",
        "    Input(shape=(n_timesteps, n_features)),  # Explicit input layer\n",
        "\n",
        "    Conv1D(filters=32, kernel_size=5, padding='same', activation='relu', kernel_initializer=initializer_He),\n",
        "    MaxPooling1D(1),\n",
        "    Dropout(0.2),\n",
        "\n",
        "    Conv1D(filters=64, kernel_size=3, padding='same', activation='relu', kernel_initializer=initializer_He),\n",
        "    MaxPooling1D(1),\n",
        "    Dropout(0.5),\n",
        "\n",
        "    Conv1D(filters=32, kernel_size=5, padding='same', activation='relu', kernel_initializer=initializer_He),\n",
        "    MaxPooling1D(1),\n",
        "\n",
        "    Bidirectional(LSTM(24, return_sequences=True, kernel_initializer=initializer_Glorot)),\n",
        "    Dropout(0.3),\n",
        "\n",
        "    Bidirectional(LSTM(25, return_sequences=True, kernel_initializer=initializer_Glorot)),\n",
        "    Dropout(0.4),\n",
        "\n",
        "    Bidirectional(LSTM(45, return_sequences=True, kernel_initializer=initializer_Glorot)),\n",
        "\n",
        "    Dense(1, activation='sigmoid')\n",
        "])\n",
        "\n",
        "# Compile the model\n",
        "model4.compile(\n",
        "    loss=weighted_binary_crossentropy,\n",
        "    optimizer=Adam(learning_rate=4e-07),\n",
        "    metrics=METRICS1\n",
        ")\n",
        "\n",
        "# Define callbacks\n",
        "cb1_model4 = keras.callbacks.ModelCheckpoint(\n",
        "    \"ParkerNet_ApJ_trialtest.keras\", save_best_only=True, monitor=\"val_loss\", mode=\"min\"\n",
        ")\n",
        "cb2_model4 = keras.callbacks.EarlyStopping(patience=2, restore_best_weights=True)\n",
        "\n",
        "# Train the model\n",
        "history_model4 = model4.fit(\n",
        "    train_features_new, train_labels_new,\n",
        "    epochs=60,\n",
        "    batch_size=1024,\n",
        "    validation_data=(val_features_new, val_labels_new),\n",
        "    callbacks=[cb1_model4, cb2_model4],\n",
        "    shuffle=False,\n",
        "    verbose=1\n",
        ")"
      ],
      "metadata": {
        "id": "CPGfe1BY8O9Z"
      },
      "execution_count": null,
      "outputs": []
    },
    {
      "cell_type": "code",
      "source": [
        "#model4.save('ParkerNet_date_splitM_seed3364.keras') #uncomment for saving model and add the date for the date which you ran the model"
      ],
      "metadata": {
        "id": "vRkninPO8a_R"
      },
      "execution_count": null,
      "outputs": []
    },
    {
      "cell_type": "code",
      "source": [
        "#use this if you want to save training history into a .csv file\n",
        "hist_df = pd.DataFrame(history_model4.history)\n",
        "hist_csv_file = 'history_date_splitM_seed3364.csv'\n",
        "with open(hist_csv_file, mode='w') as f:\n",
        "    hist_df.to_csv(f)"
      ],
      "metadata": {
        "id": "8R-rDVY9zo0R"
      },
      "execution_count": null,
      "outputs": []
    },
    {
      "cell_type": "markdown",
      "source": [
        "TRAINING SPLIT N"
      ],
      "metadata": {
        "id": "8qXC5BvszOl-"
      }
    },
    {
      "cell_type": "code",
      "source": [
        "#splitN\n",
        "# Set seed for reproducibility\n",
        "my_seed = 400\n",
        "np.random.seed(my_seed)\n",
        "random.seed(my_seed)\n",
        "tf.random.set_seed(my_seed)\n",
        "keras.utils.set_random_seed(my_seed)\n",
        "\n",
        "initializer_He = keras.initializers.HeNormal(seed=my_seed)\n",
        "initializer_Glorot = keras.initializers.GlorotUniform(seed=my_seed)\n",
        "POS_WEIGHT = 8\n",
        "\n",
        "# Define the model\n",
        "model4 = Sequential([\n",
        "    Input(shape=(n_timesteps, n_features)),  # Explicit input layer\n",
        "\n",
        "    Conv1D(filters=32, kernel_size=5, padding='same', activation='relu'),\n",
        "    Conv1D(filters=32, kernel_size=5, padding='same', activation='relu', kernel_initializer=initializer_He),\n",
        "    MaxPooling1D(1),\n",
        "    Dropout(0.2),\n",
        "\n",
        "    Conv1D(filters=64, kernel_size=3, padding='same', activation='relu', kernel_initializer=initializer_He),\n",
        "    MaxPooling1D(1),\n",
        "    Dropout(0.5),\n",
        "\n",
        "    Conv1D(filters=32, kernel_size=5, padding='same', activation='relu', kernel_initializer=initializer_He),\n",
        "    MaxPooling1D(1),\n",
        "\n",
        "    Bidirectional(LSTM(24, return_sequences=True, kernel_initializer=initializer_Glorot)),\n",
        "    Dropout(0.3),\n",
        "\n",
        "    Bidirectional(LSTM(25, return_sequences=True, kernel_initializer=initializer_Glorot)),\n",
        "    Dropout(0.4),\n",
        "\n",
        "    Bidirectional(LSTM(45, return_sequences=True, kernel_initializer=initializer_Glorot)),\n",
        "\n",
        "    Dense(1, activation='sigmoid')\n",
        "])\n",
        "\n",
        "# Compile the model\n",
        "model4.compile(\n",
        "    loss=weighted_binary_crossentropy,\n",
        "    optimizer=Adam(learning_rate=4e-07),\n",
        "    metrics=METRICS1\n",
        ")\n",
        "\n",
        "# Define callbacks\n",
        "cb1_model4 = keras.callbacks.ModelCheckpoint(\n",
        "    \"ParkerNet_splitN_test.keras\", save_best_only=True, monitor=\"val_loss\", mode=\"min\"\n",
        ")\n",
        "cb2_model4 = keras.callbacks.EarlyStopping(patience=2, restore_best_weights=True)\n",
        "\n",
        "# Train the model\n",
        "history_model4 = model4.fit(\n",
        "    train_features_new, train_labels_new,\n",
        "    epochs=5,\n",
        "    batch_size=1024,\n",
        "    validation_data=(val_features_new, val_labels_new),\n",
        "    callbacks=[cb1_model4, cb2_model4],\n",
        "    shuffle=False,\n",
        "    verbose=1\n",
        ")\n"
      ],
      "metadata": {
        "id": "miTeW3NVzGXF"
      },
      "execution_count": null,
      "outputs": []
    },
    {
      "cell_type": "markdown",
      "source": [
        "TRAINING SPLIT P"
      ],
      "metadata": {
        "id": "pfj2ZJSaAAvV"
      }
    },
    {
      "cell_type": "code",
      "source": [
        "#Split P\n",
        "# Set seed for reproducibility\n",
        "my_seed = 1953\n",
        "np.random.seed(my_seed)\n",
        "random.seed(my_seed)\n",
        "tf.random.set_seed(my_seed)\n",
        "keras.utils.set_random_seed(my_seed)\n",
        "\n",
        "initializer_He = keras.initializers.HeNormal(seed=my_seed)\n",
        "initializer_Glorot = keras.initializers.GlorotUniform(seed=my_seed)\n",
        "POS_WEIGHT = 8\n",
        "\n",
        "# Define the model\n",
        "model4 = Sequential([\n",
        "    Input(shape=(n_timesteps, n_features)),  # Explicit input layer\n",
        "\n",
        "    Conv1D(filters=32, kernel_size=5, padding='same', activation='relu'),\n",
        "    Conv1D(filters=32, kernel_size=5, padding='same', activation='relu', kernel_initializer=initializer_He),\n",
        "    MaxPooling1D(1),\n",
        "    Dropout(0.2),\n",
        "\n",
        "    Conv1D(filters=64, kernel_size=3, padding='same', activation='relu', kernel_initializer=initializer_He),\n",
        "    MaxPooling1D(1),\n",
        "    Dropout(0.5),\n",
        "\n",
        "    Conv1D(filters=32, kernel_size=5, padding='same', activation='relu', kernel_initializer=initializer_He),\n",
        "    MaxPooling1D(1),\n",
        "\n",
        "    Bidirectional(LSTM(24, return_sequences=True, kernel_initializer=initializer_Glorot)),\n",
        "    Dropout(0.3),\n",
        "\n",
        "    Bidirectional(LSTM(25, return_sequences=True, kernel_initializer=initializer_Glorot)),\n",
        "    Dropout(0.4),\n",
        "\n",
        "    Bidirectional(LSTM(45, return_sequences=True, kernel_initializer=initializer_Glorot)),\n",
        "\n",
        "    Dense(1, activation='sigmoid')\n",
        "])\n",
        "\n",
        "# Compile the model\n",
        "model4.compile(\n",
        "    loss=weighted_binary_crossentropy,\n",
        "    optimizer=Adam(learning_rate=1e-06),\n",
        "    metrics=METRICS1\n",
        ")\n",
        "\n",
        "# Define callbacks\n",
        "cb1_model4 = keras.callbacks.ModelCheckpoint(\n",
        "    \"ParkerNet_splitP_test.keras\", save_best_only=True, monitor=\"val_loss\", mode=\"min\"\n",
        ")\n",
        "cb2_model4 = keras.callbacks.EarlyStopping(patience=10, restore_best_weights=True)\n",
        "\n",
        "# Train the model\n",
        "history_model4 = model4.fit(\n",
        "    train_features_new, train_labels_new,\n",
        "    epochs=40,\n",
        "    batch_size=1024,\n",
        "    validation_data=(val_features_new, val_labels_new),\n",
        "    callbacks=[cb1_model4, cb2_model4],\n",
        "    shuffle=False,\n",
        "    verbose=1\n",
        ")\n"
      ],
      "metadata": {
        "id": "gM7PDpvnDNNI"
      },
      "execution_count": null,
      "outputs": []
    },
    {
      "cell_type": "markdown",
      "source": [
        "# ====== Evaluation Section ======"
      ],
      "metadata": {
        "id": "EGyct3TZ23H2"
      }
    },
    {
      "cell_type": "markdown",
      "metadata": {
        "id": "49cfaKv1TzCO"
      },
      "source": [
        "Predict on the test set"
      ]
    },
    {
      "cell_type": "code",
      "source": [
        "probs_test = model4.predict(test_features_new, batch_size = 1024)\n",
        "p_pred = probs_test.flatten()\n",
        "#pred_labels = pred_labels_new.flatten()\n",
        "y_pred = np.where(p_pred > 0.6, 1, 0)"
      ],
      "metadata": {
        "colab": {
          "base_uri": "https://localhost:8080/"
        },
        "id": "_3Ib2AbrE9F5",
        "outputId": "f11c17ce-e66b-47ac-8607-a26646e6693f"
      },
      "execution_count": null,
      "outputs": [
        {
          "output_type": "stream",
          "name": "stdout",
          "text": [
            "\u001b[1m226/226\u001b[0m \u001b[32m━━━━━━━━━━━━━━━━━━━━\u001b[0m\u001b[37m\u001b[0m \u001b[1m3s\u001b[0m 10ms/step\n"
          ]
        }
      ]
    },
    {
      "cell_type": "code",
      "execution_count": null,
      "metadata": {
        "id": "N9SyIKyQhw9K"
      },
      "outputs": [],
      "source": [
        "#eval_labels = eval_labels_new.flatten() #uncomment if you want to use the optional files\n",
        "val_labels = val_labels_new.flatten()\n",
        "test_labels = test_labels_new.flatten()"
      ]
    },
    {
      "cell_type": "markdown",
      "source": [
        "PLOTTING METRICS"
      ],
      "metadata": {
        "id": "BMcmGP4k1TIg"
      }
    },
    {
      "cell_type": "markdown",
      "source": [
        "ROC CURVE"
      ],
      "metadata": {
        "id": "HYh_4svt1fee"
      }
    },
    {
      "cell_type": "code",
      "source": [
        "fpr, tpr, thresholds = roc_curve(test_labels, y_pred)\n",
        "roc_auc = auc(fpr, tpr)"
      ],
      "metadata": {
        "id": "1IRNKNRFE5XL"
      },
      "execution_count": null,
      "outputs": []
    },
    {
      "cell_type": "code",
      "source": [
        "plt.figure()\n",
        "plt.plot(fpr, tpr, label='ROC curve (area = %0.2f)' % roc_auc)\n",
        "plt.plot([0, 1], [0, 1], 'k--', label='No Skill')\n",
        "plt.xlim([0.0, 1.0])\n",
        "plt.ylim([0.0, 1.05])\n",
        "plt.xlabel('False Positive Rate')\n",
        "plt.ylabel('True Positive Rate')\n",
        "plt.title('ROC Curve for SwitchBack Classification')\n",
        "plt.legend()\n",
        "plt.show()"
      ],
      "metadata": {
        "colab": {
          "base_uri": "https://localhost:8080/",
          "height": 472
        },
        "id": "51AfvW3mFBpF",
        "outputId": "c37982a4-6177-44be-8be9-14e4b4baa995"
      },
      "execution_count": null,
      "outputs": [
        {
          "output_type": "display_data",
          "data": {
            "text/plain": [
              "<Figure size 640x480 with 1 Axes>"
            ],
            "image/png": "[encoded data removed]"
          },
          "metadata": {}
        }
      ]
    },
    {
      "cell_type": "markdown",
      "source": [
        "PRC CURVE"
      ],
      "metadata": {
        "id": "bSw-FxFQ1iDA"
      }
    },
    {
      "cell_type": "code",
      "source": [
        "precision, recall, thresholds = precision_recall_curve(test_labels, y_pred)\n",
        "auc_score = auc(recall, precision)"
      ],
      "metadata": {
        "id": "371x3xS4FN_T"
      },
      "execution_count": null,
      "outputs": []
    },
    {
      "cell_type": "code",
      "source": [
        "plt.figure(figsize=(8, 6))\n",
        "plt.plot(recall, precision, label=f'Precision-Recall Curve (AUC = {auc_score:.2f})')\n",
        "plt.xlabel('Recall')\n",
        "plt.ylabel('Precision')\n",
        "plt.title('Precision-Recall Curve')\n",
        "plt.legend()\n",
        "plt.show()"
      ],
      "metadata": {
        "colab": {
          "base_uri": "https://localhost:8080/",
          "height": 564
        },
        "id": "tLq0T49KFQQw",
        "outputId": "8c2767a6-0f73-4002-d0a5-8ef470e2c805"
      },
      "execution_count": null,
      "outputs": [
        {
          "output_type": "display_data",
          "data": {
            "text/plain": [
              "<Figure size 800x600 with 1 Axes>"
            ],
            "image/png": "[encoded data removed]"
          },
          "metadata": {}
        }
      ]
    },
    {
      "cell_type": "code",
      "execution_count": null,
      "metadata": {
        "id": "BNtmp1SsiLKn",
        "colab": {
          "base_uri": "https://localhost:8080/"
        },
        "outputId": "ee56b051-0dc7-4e94-f3bc-504d3e6e55dc"
      },
      "outputs": [
        {
          "output_type": "stream",
          "name": "stdout",
          "text": [
            "\u001b[1m121/121\u001b[0m \u001b[32m━━━━━━━━━━━━━━━━━━━━\u001b[0m\u001b[37m\u001b[0m \u001b[1m2s\u001b[0m 12ms/step\n"
          ]
        }
      ],
      "source": [
        "#use this if you want to play around with the optional datasets\n",
        "#probs_pred = model4.predict(eval_features_new, batch_size = 1024)\n",
        "#p_pred = probs_pred.flatten()\n",
        "\n"
      ]
    },
    {
      "cell_type": "markdown",
      "source": [
        "additional plots to use if you choose to do so"
      ],
      "metadata": {
        "id": "Am9p1NVN3HYA"
      }
    },
    {
      "cell_type": "markdown",
      "source": [
        "training history plot"
      ],
      "metadata": {
        "id": "y0y0_mD73Q6q"
      }
    },
    {
      "cell_type": "code",
      "source": [
        "def plot_metrics(history):\n",
        "  metrics = ['loss', 'precision', 'recall', 'accuracy']\n",
        "  for n, metric in enumerate(metrics):\n",
        "    name = metric.replace(\"_\",\" \").capitalize()\n",
        "    plt.subplot(2,2,n+1)\n",
        "    plt.plot(history.epoch, history.history[metric], label='Train')\n",
        "    plt.plot(history.epoch, history.history['val_'+metric],\n",
        "              linestyle=\"--\", label='Val')\n",
        "    plt.xlabel('Epoch')\n",
        "    plt.ylabel(name)\n",
        "    if metric == 'loss':\n",
        "      plt.ylim([0, plt.ylim()[1]])\n",
        "    elif metric == 'auc':\n",
        "      plt.ylim([0.8,1])\n",
        "    else:\n",
        "      plt.ylim([0,1])\n",
        "\n",
        "    plt.legend()"
      ],
      "metadata": {
        "id": "eVPU0uWp3CAE"
      },
      "execution_count": null,
      "outputs": []
    },
    {
      "cell_type": "markdown",
      "source": [
        "Confusion Matrix plot"
      ],
      "metadata": {
        "id": "j7fGQCEO3VE-"
      }
    },
    {
      "cell_type": "code",
      "source": [
        "def plot_cm(labels, predictions, threshold=0.6):\n",
        "  cm = confusion_matrix(labels, predictions > threshold)\n",
        "  plt.figure(figsize=(5,5))\n",
        "  sns.heatmap(cm, annot=True, fmt=\"d\")\n",
        "  plt.title('Confusion matrix @{:.2f}'.format(threshold))\n",
        "  plt.ylabel('Actual label')\n",
        "  plt.xlabel('Predicted label')\n",
        "\n",
        "  print(' (True Negatives): ', cm[0][0])\n",
        "  print(' (False Positives): ', cm[0][1])\n",
        "  print('(False Negatives): ', cm[1][0])\n",
        "  print(' (True Positives): ', cm[1][1])\n",
        "  print('Total  SB: ', np.sum(cm[1]))"
      ],
      "metadata": {
        "id": "Qz1ovgF33C9r"
      },
      "execution_count": null,
      "outputs": []
    },
    {
      "cell_type": "markdown",
      "source": [
        "**Final notes to user: Now that you know how to train ParkerNet, you may retrain ParkerNet with different data. Just make sure the variables, variable order, and time resolution are the same as in this notebook. **"
      ],
      "metadata": {
        "id": "04hdHd8AIiGO"
      }
    }
  ],
  "metadata": {
    "accelerator": "GPU",
    "colab": {
      "gpuType": "A100",
      "machine_shape": "hm",
      "provenance": []
    },
    "kernelspec": {
      "display_name": "Python 3",
      "name": "python3"
    },
    "language_info": {
      "name": "python"
    }
  },
  "nbformat": 4,
  "nbformat_minor": 0
}